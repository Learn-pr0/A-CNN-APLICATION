{
 "cells": [
  {
   "cell_type": "code",
   "execution_count": 6,
   "id": "00720f45",
   "metadata": {},
   "outputs": [],
   "source": [
    "import tensorflow as tf"
   ]
  },
  {
   "cell_type": "code",
   "execution_count": 7,
   "id": "6f25649b",
   "metadata": {},
   "outputs": [
    {
     "name": "stdout",
     "output_type": "stream",
     "text": [
      "hello\n"
     ]
    }
   ],
   "source": [
    "print('hello')"
   ]
  },
  {
   "cell_type": "code",
   "execution_count": 8,
   "id": "2e221ce6",
   "metadata": {},
   "outputs": [],
   "source": [
    " from tensorflow.keras.models import Sequential"
   ]
  },
  {
   "cell_type": "code",
   "execution_count": 9,
   "id": "c084468a",
   "metadata": {},
   "outputs": [],
   "source": [
    "from tensorflow.keras.layers import Conv2D, MaxPooling2D, Dense, Flatten\n",
    "import numpy as np"
   ]
  },
  {
   "cell_type": "markdown",
   "id": "813a0d4e",
   "metadata": {},
   "source": [
    "# LOADING DATASET"
   ]
  },
  {
   "cell_type": "code",
   "execution_count": 39,
   "id": "cac4578e",
   "metadata": {},
   "outputs": [],
   "source": [
    "x_train=np.loadtxt('input.csv',delimiter=',')\n",
    "y_train=np.loadtxt('labels.csv',delimiter=',')\n",
    "\n",
    "x_test=np.loadtxt('input_test.csv',delimiter=',')\n",
    "y_test=np.loadtxt('labels_test.csv',delimiter=',')"
   ]
  },
  {
   "cell_type": "code",
   "execution_count": 40,
   "id": "1b18ad17",
   "metadata": {},
   "outputs": [
    {
     "name": "stdout",
     "output_type": "stream",
     "text": [
      "shape of x_train (2000, 30000)\n",
      "shape of y_train (2000,)\n",
      "shape of x_test (400, 30000)\n",
      "shape of y_test (400,)\n"
     ]
    }
   ],
   "source": [
    "print('shape of x_train',x_train.shape)\n",
    "print('shape of y_train',y_train.shape)\n",
    "print('shape of x_test',x_test.shape)\n",
    "print('shape of y_test',y_test.shape)\n",
    "\n"
   ]
  },
  {
   "cell_type": "code",
   "execution_count": 41,
   "id": "885b0dc7",
   "metadata": {},
   "outputs": [],
   "source": [
    "#image_rgb=100*100*3"
   ]
  },
  {
   "cell_type": "code",
   "execution_count": 42,
   "id": "d2d10bbf",
   "metadata": {},
   "outputs": [],
   "source": [
    "#reshaping image"
   ]
  },
  {
   "cell_type": "code",
   "execution_count": 43,
   "id": "8887c8a2",
   "metadata": {},
   "outputs": [],
   "source": [
    "x_train=x_train.reshape(len(x_train),100,100,3)\n",
    "y_train=y_train.reshape(len(y_train),1)\n",
    "\n",
    "x_test=x_test.reshape(len(x_test),100,100,3)\n",
    "y_test=y_test.reshape(len(y_test),1)"
   ]
  },
  {
   "cell_type": "code",
   "execution_count": 44,
   "id": "4ecacbed",
   "metadata": {},
   "outputs": [
    {
     "name": "stdout",
     "output_type": "stream",
     "text": [
      "shape of x_train (2000, 100, 100, 3)\n",
      "shape of y_train (2000, 1)\n",
      "shape of x_test (400, 100, 100, 3)\n",
      "shape of y_test (400, 1)\n"
     ]
    }
   ],
   "source": [
    "print('shape of x_train',x_train.shape)\n",
    "print('shape of y_train',y_train.shape)\n",
    "print('shape of x_test',x_test.shape)\n",
    "print('shape of y_test',y_test.shape)"
   ]
  },
  {
   "cell_type": "code",
   "execution_count": 45,
   "id": "fcf7cb88",
   "metadata": {},
   "outputs": [],
   "source": [
    "#normalisation\n"
   ]
  },
  {
   "cell_type": "code",
   "execution_count": 46,
   "id": "80815570",
   "metadata": {},
   "outputs": [
    {
     "data": {
      "text/plain": [
       "array([[[ 37.,  39.,  25.],\n",
       "        [ 26.,  24.,   9.],\n",
       "        [ 34.,  25.,  10.],\n",
       "        ...,\n",
       "        [ 57.,  44.,  35.],\n",
       "        [ 61.,  47.,  38.],\n",
       "        [ 65.,  51.,  42.]],\n",
       "\n",
       "       [[ 45.,  43.,  28.],\n",
       "        [ 28.,  25.,   8.],\n",
       "        [ 52.,  40.,  24.],\n",
       "        ...,\n",
       "        [ 54.,  41.,  32.],\n",
       "        [ 57.,  43.,  34.],\n",
       "        [ 61.,  47.,  38.]],\n",
       "\n",
       "       [[ 52.,  45.,  26.],\n",
       "        [ 32.,  24.,   5.],\n",
       "        [ 69.,  54.,  35.],\n",
       "        ...,\n",
       "        [ 54.,  40.,  29.],\n",
       "        [ 56.,  42.,  31.],\n",
       "        [ 59.,  45.,  34.]],\n",
       "\n",
       "       ...,\n",
       "\n",
       "       [[ 20.,  39.,   0.],\n",
       "        [101., 125.,  67.],\n",
       "        [152., 182., 120.],\n",
       "        ...,\n",
       "        [ 46.,  41.,  19.],\n",
       "        [ 60.,  55.,  33.],\n",
       "        [ 60.,  55.,  33.]],\n",
       "\n",
       "       [[ 46.,  65.,   9.],\n",
       "        [116., 140.,  82.],\n",
       "        [156., 186., 124.],\n",
       "        ...,\n",
       "        [ 64.,  60.,  35.],\n",
       "        [ 75.,  71.,  46.],\n",
       "        [ 72.,  68.,  43.]],\n",
       "\n",
       "       [[ 81., 100.,  44.],\n",
       "        [126., 150.,  92.],\n",
       "        [146., 176., 114.],\n",
       "        ...,\n",
       "        [ 67.,  63.,  38.],\n",
       "        [ 78.,  74.,  49.],\n",
       "        [ 58.,  54.,  29.]]])"
      ]
     },
     "execution_count": 46,
     "metadata": {},
     "output_type": "execute_result"
    }
   ],
   "source": [
    "x_train[0,]"
   ]
  },
  {
   "cell_type": "code",
   "execution_count": 47,
   "id": "6fb87866",
   "metadata": {},
   "outputs": [],
   "source": [
    "x_train=x_train/255\n",
    "x_test=x_test/255"
   ]
  },
  {
   "cell_type": "code",
   "execution_count": 48,
   "id": "c62dc34f",
   "metadata": {},
   "outputs": [
    {
     "data": {
      "text/plain": [
       "array([[[0.51372549, 0.50196078, 0.52941176],\n",
       "        [0.62745098, 0.61568627, 0.64313725],\n",
       "        [0.77647059, 0.75294118, 0.8       ],\n",
       "        ...,\n",
       "        [0.98039216, 0.97647059, 0.96862745],\n",
       "        [1.        , 1.        , 0.99215686],\n",
       "        [0.98039216, 0.97647059, 0.96078431]],\n",
       "\n",
       "       [[0.54901961, 0.5372549 , 0.56470588],\n",
       "        [0.49803922, 0.48627451, 0.51372549],\n",
       "        [0.47058824, 0.44705882, 0.48627451],\n",
       "        ...,\n",
       "        [0.98431373, 0.99215686, 0.98823529],\n",
       "        [0.99607843, 1.        , 0.99215686],\n",
       "        [0.99607843, 1.        , 0.98431373]],\n",
       "\n",
       "       [[0.8       , 0.79215686, 0.81176471],\n",
       "        [0.73333333, 0.7254902 , 0.74509804],\n",
       "        [0.57647059, 0.55686275, 0.58039216],\n",
       "        ...,\n",
       "        [0.97647059, 1.        , 1.        ],\n",
       "        [0.93333333, 0.96862745, 0.94901961],\n",
       "        [0.90980392, 0.94509804, 0.9254902 ]],\n",
       "\n",
       "       ...,\n",
       "\n",
       "       [[0.68235294, 0.71372549, 0.76470588],\n",
       "        [0.6745098 , 0.70588235, 0.75686275],\n",
       "        [0.69803922, 0.72941176, 0.77254902],\n",
       "        ...,\n",
       "        [0.34117647, 0.44705882, 0.38039216],\n",
       "        [0.29411765, 0.38823529, 0.3254902 ],\n",
       "        [0.31372549, 0.41176471, 0.3372549 ]],\n",
       "\n",
       "       [[0.65098039, 0.67843137, 0.74117647],\n",
       "        [0.64313725, 0.6745098 , 0.7254902 ],\n",
       "        [0.6745098 , 0.70588235, 0.75686275],\n",
       "        ...,\n",
       "        [0.30588235, 0.41568627, 0.32941176],\n",
       "        [0.28235294, 0.38039216, 0.29803922],\n",
       "        [0.30196078, 0.4       , 0.31764706]],\n",
       "\n",
       "       [[0.67843137, 0.70588235, 0.76862745],\n",
       "        [0.6745098 , 0.70196078, 0.76470588],\n",
       "        [0.68235294, 0.71372549, 0.76470588],\n",
       "        ...,\n",
       "        [0.24705882, 0.35686275, 0.27058824],\n",
       "        [0.24313725, 0.34117647, 0.25490196],\n",
       "        [0.27843137, 0.37647059, 0.29019608]]])"
      ]
     },
     "execution_count": 48,
     "metadata": {},
     "output_type": "execute_result"
    }
   ],
   "source": [
    "x_train[1,]"
   ]
  },
  {
   "cell_type": "code",
   "execution_count": 49,
   "id": "8b425598",
   "metadata": {},
   "outputs": [],
   "source": [
    "import matplotlib.pyplot as plt\n",
    "import random"
   ]
  },
  {
   "cell_type": "code",
   "execution_count": 50,
   "id": "1501334e",
   "metadata": {},
   "outputs": [
    {
     "data": {
      "text/plain": [
       "<matplotlib.image.AxesImage at 0x1a5ca8de4f0>"
      ]
     },
     "execution_count": 50,
     "metadata": {},
     "output_type": "execute_result"
    },
    {
     "data": {
      "image/png": "[encoded data removed]",
      "text/plain": [
       "<Figure size 640x480 with 1 Axes>"
      ]
     },
     "metadata": {},
     "output_type": "display_data"
    }
   ],
   "source": [
    "idx=random.randint(0,len(x_train))\n",
    "plt.imshow(x_train[idx,:])"
   ]
  },
  {
   "cell_type": "code",
   "execution_count": 51,
   "id": "8de18cd5",
   "metadata": {},
   "outputs": [],
   "source": [
    "from keras.layers import BatchNormalization"
   ]
  },
  {
   "cell_type": "code",
   "execution_count": 52,
   "id": "2eaa66a4",
   "metadata": {},
   "outputs": [
    {
     "data": {
      "text/plain": [
       "(100, 100, 3)"
      ]
     },
     "execution_count": 52,
     "metadata": {},
     "output_type": "execute_result"
    }
   ],
   "source": [
    "x_train[0].shape"
   ]
  },
  {
   "cell_type": "code",
   "execution_count": 53,
   "id": "832d9961",
   "metadata": {},
   "outputs": [
    {
     "data": {
      "text/plain": [
       "2000"
      ]
     },
     "execution_count": 53,
     "metadata": {},
     "output_type": "execute_result"
    }
   ],
   "source": [
    "len(y_train)"
   ]
  },
  {
   "cell_type": "code",
   "execution_count": 54,
   "id": "43dee42f",
   "metadata": {},
   "outputs": [],
   "source": [
    "from tensorflow.keras.layers import Dropout"
   ]
  },
  {
   "cell_type": "markdown",
   "id": "2951d424",
   "metadata": {},
   "source": [
    "# MODEL BUILDING"
   ]
  },
  {
   "cell_type": "code",
   "execution_count": 55,
   "id": "775f3f2d",
   "metadata": {},
   "outputs": [],
   "source": [
    "# dropouts in feature extraction layers tend to reduce accuracy so better avoid them\n",
    "#athough use dropouts in dense layers"
   ]
  },
  {
   "cell_type": "code",
   "execution_count": 56,
   "id": "78f750f9",
   "metadata": {},
   "outputs": [],
   "source": [
    "model=Sequential([\n",
    "    Conv2D(16,(3,3),activation='relu',input_shape=(100,100,3)),\n",
    "    \n",
    "    MaxPooling2D((2,2)),\n",
    "    \n",
    "    \n",
    "    Conv2D(32,(3,3),activation='relu'),\n",
    "    \n",
    "    MaxPooling2D((2,2)),\n",
    "    \n",
    "    \n",
    "    Conv2D(64,(3,3),activation='relu'),\n",
    "    \n",
    "    MaxPooling2D((2,2)),\n",
    "    \n",
    "    \n",
    "    Conv2D(128,(3,3),activation='relu'),\n",
    "    \n",
    "    MaxPooling2D((2,2)),\n",
    "    \n",
    "    \n",
    "    Conv2D(128,(3,3),activation='relu'),\n",
    "    \n",
    "    MaxPooling2D((2,2)),\n",
    "    \n",
    "    \n",
    "    \n",
    "    \n",
    "    \n",
    "    \n",
    "   \n",
    "    \n",
    "    \n",
    "    Flatten(),\n",
    "    Dense(512,activation='relu'),\n",
    "    Dropout(0.5),\n",
    "    \n",
    "    \n",
    "    Dense(1,activation='sigmoid'),\n",
    "    \n",
    "\n",
    "])"
   ]
  },
  {
   "cell_type": "code",
   "execution_count": 57,
   "id": "02320618",
   "metadata": {},
   "outputs": [],
   "source": [
    "#adding cost fn and backpro"
   ]
  },
  {
   "cell_type": "code",
   "execution_count": 58,
   "id": "347f7d84",
   "metadata": {},
   "outputs": [],
   "source": [
    "model.compile(loss='binary_crossentropy',optimizer='adam',metrics=['accuracy'])"
   ]
  },
  {
   "cell_type": "code",
   "execution_count": 62,
   "id": "5aa47f60",
   "metadata": {},
   "outputs": [
    {
     "name": "stdout",
     "output_type": "stream",
     "text": [
      "Epoch 1/5\n",
      "32/32 [==============================] - 9s 287ms/step - loss: 0.4715 - accuracy: 0.7755\n",
      "Epoch 2/5\n",
      "32/32 [==============================] - 10s 299ms/step - loss: 0.4002 - accuracy: 0.8155\n",
      "Epoch 3/5\n",
      "32/32 [==============================] - 9s 291ms/step - loss: 0.3526 - accuracy: 0.8405\n",
      "Epoch 4/5\n",
      "32/32 [==============================] - 9s 275ms/step - loss: 0.3122 - accuracy: 0.8720\n",
      "Epoch 5/5\n",
      "32/32 [==============================] - 9s 273ms/step - loss: 0.2496 - accuracy: 0.8935\n"
     ]
    },
    {
     "data": {
      "text/plain": [
       "<keras.src.callbacks.History at 0x1a5ca4db610>"
      ]
     },
     "execution_count": 62,
     "metadata": {},
     "output_type": "execute_result"
    }
   ],
   "source": [
    "model.fit(x_train,y_train,epochs=5,batch_size=64)"
   ]
  },
  {
   "cell_type": "code",
   "execution_count": null,
   "id": "ea7ee61a",
   "metadata": {},
   "outputs": [],
   "source": []
  },
  {
   "cell_type": "code",
   "execution_count": null,
   "id": "7c82387a",
   "metadata": {},
   "outputs": [],
   "source": []
  },
  {
   "cell_type": "code",
   "execution_count": null,
   "id": "9423ad58",
   "metadata": {},
   "outputs": [],
   "source": []
  },
  {
   "cell_type": "code",
   "execution_count": null,
   "id": "f0e6c80b",
   "metadata": {},
   "outputs": [],
   "source": []
  },
  {
   "cell_type": "code",
   "execution_count": 63,
   "id": "5873d9be",
   "metadata": {},
   "outputs": [
    {
     "name": "stdout",
     "output_type": "stream",
     "text": [
      "13/13 [==============================] - 1s 38ms/step - loss: 0.5432 - accuracy: 0.7525\n"
     ]
    },
    {
     "data": {
      "text/plain": [
       "[0.5432416200637817, 0.7524999976158142]"
      ]
     },
     "execution_count": 63,
     "metadata": {},
     "output_type": "execute_result"
    }
   ],
   "source": [
    "model.evaluate(x_test,y_test)"
   ]
  },
  {
   "cell_type": "markdown",
   "id": "7db552f6",
   "metadata": {},
   "source": [
    "I HAVE RUN DATA FOR 3 EPOCHS \n",
    "AT 4TH EPOCH MODEL STRTS OVERFITTING"
   ]
  },
  {
   "cell_type": "code",
   "execution_count": null,
   "id": "352f353e",
   "metadata": {},
   "outputs": [],
   "source": []
  },
  {
   "cell_type": "code",
   "execution_count": 64,
   "id": "2946ee49",
   "metadata": {},
   "outputs": [],
   "source": [
    "#\"making predictions"
   ]
  },
  {
   "cell_type": "code",
   "execution_count": 65,
   "id": "9f988d27",
   "metadata": {},
   "outputs": [
    {
     "data": {
      "image/png": "[encoded data removed]",
      "text/plain": [
       "<Figure size 640x480 with 1 Axes>"
      ]
     },
     "metadata": {},
     "output_type": "display_data"
    },
    {
     "name": "stdout",
     "output_type": "stream",
     "text": [
      "1/1 [==============================] - 0s 408ms/step\n",
      "it is dog\n"
     ]
    }
   ],
   "source": [
    "idx2=random.randint(0,len(y_test))\n",
    "plt.imshow(x_test[idx2,:])\n",
    "plt.show()\n",
    "y_pred=model.predict(x_test[idx2,:].reshape(1,100,100,3))\n",
    "y_pred=y_pred>0.5\n",
    "if(y_pred==0):\n",
    "    print('it is dog')\n",
    "else:\n",
    "    print('it is a cat')"
   ]
  },
  {
   "cell_type": "code",
   "execution_count": 27,
   "id": "618c34ed",
   "metadata": {},
   "outputs": [
    {
     "data": {
      "text/plain": [
       "(400, 100, 100, 3)"
      ]
     },
     "execution_count": 27,
     "metadata": {},
     "output_type": "execute_result"
    }
   ],
   "source": [
    "x_test.shape"
   ]
  },
  {
   "cell_type": "code",
   "execution_count": 28,
   "id": "b0a3d839",
   "metadata": {},
   "outputs": [
    {
     "data": {
      "text/plain": [
       "(100, 100, 3)"
      ]
     },
     "execution_count": 28,
     "metadata": {},
     "output_type": "execute_result"
    }
   ],
   "source": [
    "x_test[1,:].shape"
   ]
  },
  {
   "cell_type": "code",
   "execution_count": 30,
   "id": "8d851e2e",
   "metadata": {},
   "outputs": [
    {
     "name": "stdout",
     "output_type": "stream",
     "text": [
      "Model: \"sequential\"\n",
      "_________________________________________________________________\n",
      " Layer (type)                Output Shape              Param #   \n",
      "=================================================================\n",
      " conv2d (Conv2D)             (None, 98, 98, 16)        448       \n",
      "                                                                 \n",
      " max_pooling2d (MaxPooling2  (None, 49, 49, 16)        0         \n",
      " D)                                                              \n",
      "                                                                 \n",
      " conv2d_1 (Conv2D)           (None, 47, 47, 32)        4640      \n",
      "                                                                 \n",
      " max_pooling2d_1 (MaxPoolin  (None, 23, 23, 32)        0         \n",
      " g2D)                                                            \n",
      "                                                                 \n",
      " conv2d_2 (Conv2D)           (None, 21, 21, 64)        18496     \n",
      "                                                                 \n",
      " max_pooling2d_2 (MaxPoolin  (None, 10, 10, 64)        0         \n",
      " g2D)                                                            \n",
      "                                                                 \n",
      " conv2d_3 (Conv2D)           (None, 8, 8, 128)         73856     \n",
      "                                                                 \n",
      " max_pooling2d_3 (MaxPoolin  (None, 4, 4, 128)         0         \n",
      " g2D)                                                            \n",
      "                                                                 \n",
      " conv2d_4 (Conv2D)           (None, 2, 2, 128)         147584    \n",
      "                                                                 \n",
      " max_pooling2d_4 (MaxPoolin  (None, 1, 1, 128)         0         \n",
      " g2D)                                                            \n",
      "                                                                 \n",
      " flatten (Flatten)           (None, 128)               0         \n",
      "                                                                 \n",
      " dense (Dense)               (None, 512)               66048     \n",
      "                                                                 \n",
      " dropout (Dropout)           (None, 512)               0         \n",
      "                                                                 \n",
      " dense_1 (Dense)             (None, 1)                 513       \n",
      "                                                                 \n",
      "=================================================================\n",
      "Total params: 311585 (1.19 MB)\n",
      "Trainable params: 311585 (1.19 MB)\n",
      "Non-trainable params: 0 (0.00 Byte)\n",
      "_________________________________________________________________\n"
     ]
    }
   ],
   "source": [
    "model.summary()"
   ]
  },
  {
   "cell_type": "code",
   "execution_count": 33,
   "id": "7537a315",
   "metadata": {},
   "outputs": [],
   "source": []
  },
  {
   "cell_type": "markdown",
   "id": "d6032af4",
   "metadata": {},
   "source": [
    "\n",
    "    \n",
    "    \n",
    " "
   ]
  },
  {
   "cell_type": "code",
   "execution_count": null,
   "id": "af128a94",
   "metadata": {},
   "outputs": [],
   "source": []
  },
  {
   "cell_type": "code",
   "execution_count": null,
   "id": "f5817476",
   "metadata": {},
   "outputs": [],
   "source": []
  },
  {
   "cell_type": "code",
   "execution_count": null,
   "id": "3adf95bd",
   "metadata": {},
   "outputs": [],
   "source": []
  },
  {
   "cell_type": "markdown",
   "id": "bd508f55",
   "metadata": {},
   "source": [
    "# convolutional autoencoder approach"
   ]
  },
  {
   "cell_type": "code",
   "execution_count": 66,
   "id": "2d0c78e3",
   "metadata": {},
   "outputs": [],
   "source": [
    "from tensorflow.keras.layers import UpSampling2D, Input"
   ]
  },
  {
   "cell_type": "code",
   "execution_count": 122,
   "id": "cdd72c9a",
   "metadata": {},
   "outputs": [
    {
     "data": {
      "text/plain": [
       "(2000, 100, 100, 3)"
      ]
     },
     "execution_count": 122,
     "metadata": {},
     "output_type": "execute_result"
    }
   ],
   "source": [
    "x_train.shape"
   ]
  },
  {
   "cell_type": "code",
   "execution_count": 123,
   "id": "49a9619d",
   "metadata": {},
   "outputs": [],
   "source": [
    "input_img=Input(shape=(100,100,3))"
   ]
  },
  {
   "cell_type": "code",
   "execution_count": 132,
   "id": "bbd54eba",
   "metadata": {},
   "outputs": [],
   "source": [
    "#encoder\n",
    "def encoder(input_img):\n",
    "    conv1=Conv2D(16,(3,3),activation='relu',padding='same')(input_img)\n",
    "    d1=MaxPooling2D(2,2)(conv1)\n",
    "    \n",
    "    conv2=Conv2D(32,(3,3),activation='relu',padding='same')(d1)\n",
    "    d2=MaxPooling2D(2,2)(conv2)\n",
    "    \n",
    "    conv3=Conv2D(64,(3,3),activation='relu',padding='same')(d2)\n",
    "    d3=MaxPooling2D(2,2)(conv3)\n",
    "    \n",
    "    conv4=Conv2D(128,(3,3),activation='relu',padding='same')(d3)\n",
    "    d4=MaxPooling2D(2,2)(conv4)\n",
    "    \n",
    "    conv5=Conv2D(128,(3,3),activation='relu',padding='same')(d4)\n",
    "    \n",
    "    return conv5\n",
    "#decoder   \n",
    "def decoder(conv5):\n",
    "    conv6=Conv2D(128,(3,3),activation='relu',padding='same')(conv5)\n",
    "    u1=UpSampling2D(2,2)(conv5)\n",
    "    \n",
    "    conv7=Conv2D(64,(3,3),activation='relu',padding='same')(u1)\n",
    "    u2=UpSampling2D(2,2)(conv7)\n",
    "    \n",
    "    decoded=Conv2D(1,(3,3),activation='sigmoid',padding='same')(u2)\n",
    "    \n",
    "    return decoded\n",
    "    \n",
    "    \n",
    "      \n",
    "\n",
    "    \n",
    "    \n",
    "   \n",
    "    \n",
    "    \n",
    "    \n",
    "    \n",
    "    "
   ]
  },
  {
   "cell_type": "code",
   "execution_count": 133,
   "id": "1c9568b7",
   "metadata": {},
   "outputs": [],
   "source": [
    "from keras.models import Model"
   ]
  },
  {
   "cell_type": "code",
   "execution_count": 142,
   "id": "f13a7bdc",
   "metadata": {},
   "outputs": [
    {
     "ename": "AttributeError",
     "evalue": "'int' object has no attribute 'lower'",
     "output_type": "error",
     "traceback": [
      "\u001b[1;31m---------------------------------------------------------------------------\u001b[0m",
      "\u001b[1;31mAttributeError\u001b[0m                            Traceback (most recent call last)",
      "\u001b[1;32m~\\AppData\\Local\\Temp\\ipykernel_4488\\16932435.py\u001b[0m in \u001b[0;36m<module>\u001b[1;34m\u001b[0m\n\u001b[1;32m----> 1\u001b[1;33m \u001b[0mautoencoder\u001b[0m \u001b[1;33m=\u001b[0m \u001b[0mModel\u001b[0m\u001b[1;33m(\u001b[0m\u001b[0minput_img\u001b[0m\u001b[1;33m,\u001b[0m \u001b[0mdecoder\u001b[0m\u001b[1;33m(\u001b[0m\u001b[0mencoder\u001b[0m\u001b[1;33m(\u001b[0m\u001b[0minput_img\u001b[0m\u001b[1;33m)\u001b[0m\u001b[1;33m)\u001b[0m\u001b[1;33m)\u001b[0m\u001b[1;33m\u001b[0m\u001b[1;33m\u001b[0m\u001b[0m\n\u001b[0m\u001b[0;32m      2\u001b[0m \u001b[1;31m#autoencoder.compile(loss='mean_squared_error', optimizer='adam',metrics=['accuracy'])\u001b[0m\u001b[1;33m\u001b[0m\u001b[1;33m\u001b[0m\u001b[0m\n",
      "\u001b[1;32m~\\AppData\\Local\\Temp\\ipykernel_4488\\4219128962.py\u001b[0m in \u001b[0;36mdecoder\u001b[1;34m(conv5)\u001b[0m\n\u001b[0;32m     19\u001b[0m \u001b[1;32mdef\u001b[0m \u001b[0mdecoder\u001b[0m\u001b[1;33m(\u001b[0m\u001b[0mconv5\u001b[0m\u001b[1;33m)\u001b[0m\u001b[1;33m:\u001b[0m\u001b[1;33m\u001b[0m\u001b[1;33m\u001b[0m\u001b[0m\n\u001b[0;32m     20\u001b[0m     \u001b[0mconv6\u001b[0m\u001b[1;33m=\u001b[0m\u001b[0mConv2D\u001b[0m\u001b[1;33m(\u001b[0m\u001b[1;36m128\u001b[0m\u001b[1;33m,\u001b[0m\u001b[1;33m(\u001b[0m\u001b[1;36m3\u001b[0m\u001b[1;33m,\u001b[0m\u001b[1;36m3\u001b[0m\u001b[1;33m)\u001b[0m\u001b[1;33m,\u001b[0m\u001b[0mactivation\u001b[0m\u001b[1;33m=\u001b[0m\u001b[1;34m'relu'\u001b[0m\u001b[1;33m,\u001b[0m\u001b[0mpadding\u001b[0m\u001b[1;33m=\u001b[0m\u001b[1;34m'same'\u001b[0m\u001b[1;33m)\u001b[0m\u001b[1;33m(\u001b[0m\u001b[0mconv5\u001b[0m\u001b[1;33m)\u001b[0m\u001b[1;33m\u001b[0m\u001b[1;33m\u001b[0m\u001b[0m\n\u001b[1;32m---> 21\u001b[1;33m     \u001b[0mu1\u001b[0m\u001b[1;33m=\u001b[0m\u001b[0mUpSampling2D\u001b[0m\u001b[1;33m(\u001b[0m\u001b[1;36m2\u001b[0m\u001b[1;33m,\u001b[0m\u001b[1;36m2\u001b[0m\u001b[1;33m)\u001b[0m\u001b[1;33m(\u001b[0m\u001b[0mconv5\u001b[0m\u001b[1;33m)\u001b[0m\u001b[1;33m\u001b[0m\u001b[1;33m\u001b[0m\u001b[0m\n\u001b[0m\u001b[0;32m     22\u001b[0m \u001b[1;33m\u001b[0m\u001b[0m\n\u001b[0;32m     23\u001b[0m     \u001b[0mconv7\u001b[0m\u001b[1;33m=\u001b[0m\u001b[0mConv2D\u001b[0m\u001b[1;33m(\u001b[0m\u001b[1;36m64\u001b[0m\u001b[1;33m,\u001b[0m\u001b[1;33m(\u001b[0m\u001b[1;36m3\u001b[0m\u001b[1;33m,\u001b[0m\u001b[1;36m3\u001b[0m\u001b[1;33m)\u001b[0m\u001b[1;33m,\u001b[0m\u001b[0mactivation\u001b[0m\u001b[1;33m=\u001b[0m\u001b[1;34m'relu'\u001b[0m\u001b[1;33m,\u001b[0m\u001b[0mpadding\u001b[0m\u001b[1;33m=\u001b[0m\u001b[1;34m'same'\u001b[0m\u001b[1;33m)\u001b[0m\u001b[1;33m(\u001b[0m\u001b[0mu1\u001b[0m\u001b[1;33m)\u001b[0m\u001b[1;33m\u001b[0m\u001b[1;33m\u001b[0m\u001b[0m\n",
      "\u001b[1;32m~\\anaconda3\\lib\\site-packages\\keras\\src\\layers\\reshaping\\up_sampling2d.py\u001b[0m in \u001b[0;36m__init__\u001b[1;34m(self, size, data_format, interpolation, **kwargs)\u001b[0m\n\u001b[0;32m     93\u001b[0m     ):\n\u001b[0;32m     94\u001b[0m         \u001b[0msuper\u001b[0m\u001b[1;33m(\u001b[0m\u001b[1;33m)\u001b[0m\u001b[1;33m.\u001b[0m\u001b[0m__init__\u001b[0m\u001b[1;33m(\u001b[0m\u001b[1;33m**\u001b[0m\u001b[0mkwargs\u001b[0m\u001b[1;33m)\u001b[0m\u001b[1;33m\u001b[0m\u001b[1;33m\u001b[0m\u001b[0m\n\u001b[1;32m---> 95\u001b[1;33m         \u001b[0mself\u001b[0m\u001b[1;33m.\u001b[0m\u001b[0mdata_format\u001b[0m \u001b[1;33m=\u001b[0m \u001b[0mconv_utils\u001b[0m\u001b[1;33m.\u001b[0m\u001b[0mnormalize_data_format\u001b[0m\u001b[1;33m(\u001b[0m\u001b[0mdata_format\u001b[0m\u001b[1;33m)\u001b[0m\u001b[1;33m\u001b[0m\u001b[1;33m\u001b[0m\u001b[0m\n\u001b[0m\u001b[0;32m     96\u001b[0m         \u001b[0mself\u001b[0m\u001b[1;33m.\u001b[0m\u001b[0msize\u001b[0m \u001b[1;33m=\u001b[0m \u001b[0mconv_utils\u001b[0m\u001b[1;33m.\u001b[0m\u001b[0mnormalize_tuple\u001b[0m\u001b[1;33m(\u001b[0m\u001b[0msize\u001b[0m\u001b[1;33m,\u001b[0m \u001b[1;36m2\u001b[0m\u001b[1;33m,\u001b[0m \u001b[1;34m\"size\"\u001b[0m\u001b[1;33m)\u001b[0m\u001b[1;33m\u001b[0m\u001b[1;33m\u001b[0m\u001b[0m\n\u001b[0;32m     97\u001b[0m         \u001b[0mself\u001b[0m\u001b[1;33m.\u001b[0m\u001b[0minterpolation\u001b[0m \u001b[1;33m=\u001b[0m \u001b[0mimage_utils\u001b[0m\u001b[1;33m.\u001b[0m\u001b[0mget_interpolation\u001b[0m\u001b[1;33m(\u001b[0m\u001b[0minterpolation\u001b[0m\u001b[1;33m)\u001b[0m\u001b[1;33m\u001b[0m\u001b[1;33m\u001b[0m\u001b[0m\n",
      "\u001b[1;32m~\\anaconda3\\lib\\site-packages\\keras\\src\\utils\\conv_utils.py\u001b[0m in \u001b[0;36mnormalize_data_format\u001b[1;34m(value)\u001b[0m\n\u001b[0;32m    221\u001b[0m     \u001b[1;32mif\u001b[0m \u001b[0mvalue\u001b[0m \u001b[1;32mis\u001b[0m \u001b[1;32mNone\u001b[0m\u001b[1;33m:\u001b[0m\u001b[1;33m\u001b[0m\u001b[1;33m\u001b[0m\u001b[0m\n\u001b[0;32m    222\u001b[0m         \u001b[0mvalue\u001b[0m \u001b[1;33m=\u001b[0m \u001b[0mbackend\u001b[0m\u001b[1;33m.\u001b[0m\u001b[0mimage_data_format\u001b[0m\u001b[1;33m(\u001b[0m\u001b[1;33m)\u001b[0m\u001b[1;33m\u001b[0m\u001b[1;33m\u001b[0m\u001b[0m\n\u001b[1;32m--> 223\u001b[1;33m     \u001b[0mdata_format\u001b[0m \u001b[1;33m=\u001b[0m \u001b[0mvalue\u001b[0m\u001b[1;33m.\u001b[0m\u001b[0mlower\u001b[0m\u001b[1;33m(\u001b[0m\u001b[1;33m)\u001b[0m\u001b[1;33m\u001b[0m\u001b[1;33m\u001b[0m\u001b[0m\n\u001b[0m\u001b[0;32m    224\u001b[0m     \u001b[1;32mif\u001b[0m \u001b[0mdata_format\u001b[0m \u001b[1;32mnot\u001b[0m \u001b[1;32min\u001b[0m \u001b[1;33m{\u001b[0m\u001b[1;34m\"channels_first\"\u001b[0m\u001b[1;33m,\u001b[0m \u001b[1;34m\"channels_last\"\u001b[0m\u001b[1;33m}\u001b[0m\u001b[1;33m:\u001b[0m\u001b[1;33m\u001b[0m\u001b[1;33m\u001b[0m\u001b[0m\n\u001b[0;32m    225\u001b[0m         raise ValueError(\n",
      "\u001b[1;31mAttributeError\u001b[0m: 'int' object has no attribute 'lower'"
     ]
    }
   ],
   "source": [
    "autoencoder = Model(input_img, decoder(encoder(input_img)))\n",
    "autoencoder.compile(loss='mean_squared_error', optimizer='adam',metrics=['accuracy'])"
   ]
  },
  {
   "cell_type": "code",
   "execution_count": null,
   "id": "6c038df5",
   "metadata": {},
   "outputs": [],
   "source": []
  },
  {
   "cell_type": "code",
   "execution_count": null,
   "id": "9baca21a",
   "metadata": {},
   "outputs": [],
   "source": []
  }
 ],
 "metadata": {
  "kernelspec": {
   "display_name": "Python 3 (ipykernel)",
   "language": "python",
   "name": "python3"
  },
  "language_info": {
   "codemirror_mode": {
    "name": "ipython",
    "version": 3
   },
   "file_extension": ".py",
   "mimetype": "text/x-python",
   "name": "python",
   "nbconvert_exporter": "python",
   "pygments_lexer": "ipython3",
   "version": "3.9.13"
  }
 },
 "nbformat": 4,
 "nbformat_minor": 5
}
